{
 "cells": [
  {
   "cell_type": "markdown",
   "metadata": {},
   "source": [
    "ZADANIE 2.10\n",
    "Mamy dany napis wielowierszowy line. Podać sposób obliczenia liczby wyrazów w napisie. Przez wyraz rozumiemy ciąg \"czarnych\" znaków, oddzielony od innych wyrazów białymi znakami (spacja, tabulacja, newline)."
   ]
  },
  {
   "cell_type": "code",
   "execution_count": 23,
   "metadata": {},
   "outputs": [
    {
     "name": "stdout",
     "output_type": "stream",
     "text": [
      "['Lorem', 'ipsum', 'dolor', 'sit', 'amet,', 'consectetur', 'adipiscing', 'elit,', 'sed', 'do', 'eiusmod', 'tempor', 'incididunt', 'ut', 'labore', 'et', 'dolore', 'magna', 'aliqua.', 'Ut', 'enim', 'ad', 'minim', 'veniam,', 'quis', 'nostrud', 'exercitation', 'ullamco', 'laboris', 'nisi', 'ut', 'aliquip', 'ex', 'ea', 'commodo', 'consequat.s']\n",
      "36\n"
     ]
    }
   ],
   "source": [
    "line = \"\"\"Lorem ipsum dolor sit amet,\n",
    "consectetur adipiscing elit,\n",
    "sed do eiusmod tempor incididunt ut\n",
    "labore et dolore magna aliqua.\n",
    "Ut enim ad minim veniam, quis\n",
    "nostrud exercitation ullamco laboris\n",
    "nisi ut aliquip ex ea commodo consequat.s\n",
    "\"\"\"\n",
    "\n",
    "line2 = line.replace(\"\\n\", \" \")\n",
    "words = line2.split()\n",
    "print(words)\n",
    "print(len(words))"
   ]
  },
  {
   "cell_type": "markdown",
   "metadata": {},
   "source": [
    "ZADANIE 2.11\n",
    "Podać sposób wyświetlania napisu word tak, aby jego znaki były rozdzielone znakiem podkreślenia."
   ]
  },
  {
   "cell_type": "code",
   "execution_count": 2,
   "metadata": {},
   "outputs": [
    {
     "name": "stdout",
     "output_type": "stream",
     "text": [
      "p_r_z_y_k_l_a_d_o_w_y_n_a_p_i_s\n"
     ]
    }
   ],
   "source": [
    "word = \"przykladowynapis\"\n",
    "print('_'.join(list(word)))\n"
   ]
  },
  {
   "cell_type": "markdown",
   "metadata": {},
   "source": [
    "ZADANIE 2.12\n",
    "Zbudować napis stworzony z pierwszych znaków wyrazów z wiersza line. Zbudować napis stworzony z ostatnich znaków wyrazów z wiersza line."
   ]
  },
  {
   "cell_type": "code",
   "execution_count": 3,
   "metadata": {},
   "outputs": [
    {
     "name": "stdout",
     "output_type": "stream",
     "text": [
      "Lidsacae\n",
      "mmrttrgt\n"
     ]
    }
   ],
   "source": [
    "line = \"Lorem ipsum dolor sit amet consectetur adipiscing elit\"\n",
    "words = line.split(\" \")\n",
    "first = \"\"\n",
    "last = \"\"\n",
    "for word in words:\n",
    "    first = first + word[0]\n",
    "    last = last + word[-1]\n",
    "\n",
    "print(first)\n",
    "print(last)"
   ]
  },
  {
   "cell_type": "markdown",
   "metadata": {},
   "source": [
    "ZADANIE 2.13\n",
    "Znaleźć łączną długość wyrazów w napisie line. Wskazówka: można skorzystać z funkcji sum()."
   ]
  },
  {
   "cell_type": "code",
   "execution_count": 4,
   "metadata": {},
   "outputs": [
    {
     "name": "stdout",
     "output_type": "stream",
     "text": [
      "47\n"
     ]
    }
   ],
   "source": [
    "print(sum(len(word) for word in words))"
   ]
  },
  {
   "cell_type": "markdown",
   "metadata": {},
   "source": [
    "ZADANIE 2.14\n",
    "Znaleźć: (a) najdłuższy wyraz, (b) długość najdłuższego wyrazu w napisie line."
   ]
  },
  {
   "cell_type": "code",
   "execution_count": 5,
   "metadata": {},
   "outputs": [
    {
     "name": "stdout",
     "output_type": "stream",
     "text": [
      "consectetur\n",
      "11\n"
     ]
    }
   ],
   "source": [
    "longest = max(words, key = len)\n",
    "print(longest)\n",
    "print(len(longest))"
   ]
  },
  {
   "cell_type": "markdown",
   "metadata": {},
   "source": [
    "ZADANIE 2.15\n",
    "Na liście L znajdują się liczby całkowite dodatnie. Stworzyć napis będący ciągiem cyfr kolejnych liczb z listy L."
   ]
  },
  {
   "cell_type": "code",
   "execution_count": 6,
   "metadata": {},
   "outputs": [
    {
     "name": "stdout",
     "output_type": "stream",
     "text": [
      "123987654134256644499\n"
     ]
    }
   ],
   "source": [
    "L = [1, 2, 3, 9, 8, 7, 6, 5, 4, 13, 425, 66, 44499]\n",
    "Lstring = \"\".join(str(num) for num in L)\n",
    "print(Lstring)"
   ]
  },
  {
   "cell_type": "markdown",
   "metadata": {},
   "source": [
    "ZADANIE 2.16\n",
    "W tekście znajdującym się w zmiennej line zamienić ciąg znaków \"GvR\" na \"Guido van Rossum\"."
   ]
  },
  {
   "cell_type": "code",
   "execution_count": 7,
   "metadata": {},
   "outputs": [
    {
     "name": "stdout",
     "output_type": "stream",
     "text": [
      "Lorem ipsum dolor sit Guido van Rossum amet consectetur adipiscing elit\n"
     ]
    }
   ],
   "source": [
    "lineGvR = \"Lorem ipsum dolor sit GvR amet consectetur adipiscing elit\"\n",
    "lineGvR = lineGvR.replace(\"GvR\", \"Guido van Rossum\")\n",
    "print(lineGvR)"
   ]
  },
  {
   "cell_type": "markdown",
   "metadata": {},
   "source": [
    "ZADANIE 2.17\n",
    "Posortować wyrazy z napisu line raz alfabetycznie, a raz pod względem długości. Wskazówka: funkcja wbudowana sorted()."
   ]
  },
  {
   "cell_type": "code",
   "execution_count": 8,
   "metadata": {},
   "outputs": [
    {
     "name": "stdout",
     "output_type": "stream",
     "text": [
      "['adipiscing', 'amet', 'consectetur', 'dolor', 'elit', 'ipsum', 'Lorem', 'sit']\n",
      "['sit', 'amet', 'elit', 'Lorem', 'ipsum', 'dolor', 'adipiscing', 'consectetur']\n"
     ]
    }
   ],
   "source": [
    "print(sorted(line.split(), key=str.lower))\n",
    "print(sorted(line.split(), key=len))"
   ]
  },
  {
   "cell_type": "markdown",
   "metadata": {},
   "source": [
    "ZADANIE 2.18\n",
    "Znaleźć liczbę cyfr zero w dużej liczbie całkowitej. Wskazówka: zamienić liczbę na napis."
   ]
  },
  {
   "cell_type": "code",
   "execution_count": 9,
   "metadata": {},
   "outputs": [
    {
     "name": "stdout",
     "output_type": "stream",
     "text": [
      "6\n"
     ]
    }
   ],
   "source": [
    "number = 123172623578402143230534643602124066023443432402343\n",
    "print(sum(i == '0' for i in list(str(number))))"
   ]
  },
  {
   "cell_type": "markdown",
   "metadata": {},
   "source": [
    "ZADANIE 2.19\n",
    "Na liście L mamy liczby jedno-, dwu- i trzycyfrowe dodatnie. Chcemy zbudować napis z trzycyfrowych bloków, gdzie liczby jedno- i dwucyfrowe będą miały blok dopełniony zerami, np. 007, 024. Wskazówka: str.zfill()."
   ]
  },
  {
   "cell_type": "code",
   "execution_count": 10,
   "metadata": {},
   "outputs": [
    {
     "name": "stdout",
     "output_type": "stream",
     "text": [
      "001002003004005006011012013014015016111222333444555666\n"
     ]
    }
   ],
   "source": [
    "L = [1, 2, 3, 4, 5, 6, 11, 12, 13, 14, 15, 16, 111, 222, 333, 444, 555, 666]\n",
    "print(\"\".join(str(num).zfill(3) for num in L))"
   ]
  }
 ],
 "metadata": {
  "kernelspec": {
   "display_name": "Python 3 (ipykernel)",
   "language": "python",
   "name": "python3"
  },
  "language_info": {
   "codemirror_mode": {
    "name": "ipython",
    "version": 3
   },
   "file_extension": ".py",
   "mimetype": "text/x-python",
   "name": "python",
   "nbconvert_exporter": "python",
   "pygments_lexer": "ipython3",
   "version": "3.10.7"
  },
  "vscode": {
   "interpreter": {
    "hash": "e7370f93d1d0cde622a1f8e1c04877d8463912d04d973331ad4851f04de6915a"
   }
  }
 },
 "nbformat": 4,
 "nbformat_minor": 2
}
