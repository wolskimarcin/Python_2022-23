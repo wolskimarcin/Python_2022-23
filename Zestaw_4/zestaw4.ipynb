{
 "cells": [
  {
   "cell_type": "markdown",
   "source": [
    "ZADANIE 4.2\n",
    "Rozwiązania zadań 3.5 i 3.6 z poprzedniego zestawu zapisać w postaci funkcji, które zwracają pełny string przez return. Funkcje nie powinny pytać użytkownika o dane, tylko korzystać z argumentów.\n",
    "\n",
    "def make_ruler(n): pass\n",
    "\n",
    "def make_grid(rows, cols): pass"
   ],
   "metadata": {
    "collapsed": false
   }
  },
  {
   "cell_type": "code",
   "execution_count": 58,
   "outputs": [
    {
     "name": "stdout",
     "output_type": "stream",
     "text": [
      "|....|....|....|....|....|....|....|....|....|....|....|....|\n",
      "0    1    2    3    4    5    6    7    8    9   10   11   12\n",
      "+---+---+---+\n",
      "|   |   |   |\n",
      "+---+---+---+\n",
      "|   |   |   |\n",
      "+---+---+---+\n",
      "\n"
     ]
    }
   ],
   "source": [
    "def make_ruler(n):\n",
    "    out = \"|\" + \"\".join(\"....|\" for i in range(n)) + \"\\n0\" + \"\".join((5 - len(str(i+ 1))) * \" \" + str(i + 1) for i in range(n))\n",
    "    return out\n",
    "\n",
    "\n",
    "def make_grid(rows, cols):\n",
    "    row = \"\".join(\"+---\" for i in range(cols)) + \"+\\n\" + \"\".join(\"|   \" for i in range(cols)) + \"|\\n\"\n",
    "    shape = row * rows + row[: (-cols * 4) - 2]\n",
    "    return shape\n",
    "\n",
    "print(make_ruler(12))\n",
    "print(make_grid(2,3))"
   ],
   "metadata": {
    "collapsed": false
   }
  },
  {
   "cell_type": "markdown",
   "source": [
    "ZADANIE 4.3\n",
    "Napisać iteracyjną wersję funkcji factorial(n) obliczającej silnię."
   ],
   "metadata": {
    "collapsed": false
   }
  },
  {
   "cell_type": "code",
   "execution_count": 57,
   "outputs": [
    {
     "name": "stdout",
     "output_type": "stream",
     "text": [
      "5040\n",
      "5040\n"
     ]
    }
   ],
   "source": [
    "from functools import reduce\n",
    "\n",
    "# iteracyjnie\n",
    "def factorial(n):\n",
    "    out = 1\n",
    "    for i in range(n):\n",
    "        out = out * (i+1)\n",
    "    return out\n",
    "\n",
    "# bonus\n",
    "def factorial2(n):\n",
    "    return reduce(lambda x, y: x*y , range(1, n + 1)) if n != 0 else 1\n",
    "\n",
    "\n",
    "print(factorial(7))\n",
    "print(factorial2(7))"
   ],
   "metadata": {
    "collapsed": false
   }
  },
  {
   "cell_type": "markdown",
   "source": [
    "ZADANIE 4.4\n",
    "Napisać iteracyjną wersję funkcji fibonacci(n) obliczającej n-ty wyraz ciągu Fibonacciego."
   ],
   "metadata": {
    "collapsed": false
   }
  },
  {
   "cell_type": "code",
   "execution_count": 56,
   "outputs": [
    {
     "name": "stdout",
     "output_type": "stream",
     "text": [
      "55\n"
     ]
    }
   ],
   "source": [
    "def fibonacci(n):\n",
    "    a, b = 0, 1\n",
    "    for i in range (0, n):\n",
    "        a, b = b, a+b\n",
    "\n",
    "    return a\n",
    "\n",
    "print(fibonacci(10))"
   ],
   "metadata": {
    "collapsed": false
   }
  },
  {
   "cell_type": "markdown",
   "source": [
    "ZADANIE 4.5\n",
    "Napisać funkcję odwracanie(L, left, right) odwracającą kolejność elementów na liście od numeru left do right włącznie. Lista jest modyfikowana w miejscu (in place). Rozważyć wersję iteracyjną i rekurencyjną.\n",
    "\n"
   ],
   "metadata": {
    "collapsed": false
   }
  },
  {
   "cell_type": "code",
   "execution_count": 55,
   "outputs": [
    {
     "name": "stdout",
     "output_type": "stream",
     "text": [
      "[1, 2, 3, 4, 5, 6, 7, 8]\n",
      "[1, 7, 6, 5, 4, 3, 2, 8]\n",
      "[1, 7, 6, 5, 4, 3, 2, 8]\n"
     ]
    }
   ],
   "source": [
    "# iteracyjnie\n",
    "def odwracanie(L, left, right):\n",
    "    end = right\n",
    "    for i in range(left, int(end/2) + 1):\n",
    "        temp = L[i]\n",
    "        L[i] = L[end]\n",
    "        L[end] = temp\n",
    "        end = end - 1\n",
    "    print(L)\n",
    "\n",
    "# bonus\n",
    "def odwracanie2(L, left, right):\n",
    "    L[left:right+1] = L[right:left-1: -1]\n",
    "    print(L)\n",
    "\n",
    "L = [1, 2, 3, 4, 5, 6, 7, 8]\n",
    "L2 = [1, 2, 3, 4, 5, 6, 7, 8]\n",
    "\n",
    "print(L)\n",
    "odwracanie(L, 1, 6)\n",
    "odwracanie2(L2, 1, 6)"
   ],
   "metadata": {
    "collapsed": false
   }
  },
  {
   "cell_type": "markdown",
   "source": [
    "ZADANIE 4.6\n",
    "Napisać funkcję sum_seq(sequence) obliczającą sumę liczb zawartych w sekwencji, która może zawierać zagnieżdżone podsekwencje. Wskazówka: rozważyć wersję rekurencyjną, a sprawdzanie, czy element jest sekwencją, wykonać przez isinstance(item, (list, tuple))."
   ],
   "metadata": {
    "collapsed": false
   }
  },
  {
   "cell_type": "code",
   "execution_count": 53,
   "outputs": [
    {
     "name": "stdout",
     "output_type": "stream",
     "text": [
      "45\n"
     ]
    }
   ],
   "source": [
    "def sum_seq(sequence):\n",
    "    res = 0\n",
    "\n",
    "    for item in sequence:\n",
    "        if isinstance(item, (list, tuple)):\n",
    "            res += sum_seq(item)\n",
    "        else:\n",
    "            res += item\n",
    "\n",
    "    return res\n",
    "\n",
    "\n",
    "seq = [1,(2,3),[],[4,(5,6,7)],8,[9]]\n",
    "print(sum_seq(seq))"
   ],
   "metadata": {
    "collapsed": false
   }
  },
  {
   "cell_type": "markdown",
   "source": [
    "ZADANIE 4.7\n",
    "Mamy daną sekwencję, w której niektóre z elementów mogą okazać się podsekwencjami, a takie zagnieżdżenia mogą się nakładać do nieograniczonej głębokości. Napisać funkcję flatten(sequence), która zwróci spłaszczoną listę wszystkich elementów sekwencji. Wskazówka: rozważyć wersję rekurencyjną, a sprawdzanie czy element jest sekwencją, wykonać przez isinstance(item, (list, tuple)).\n",
    "\n",
    "seq = [1,(2,3),[],[4,(5,6,7)],8,[9]]\n",
    "print(flatten(seq))   # [1,2,3,4,5,6,7,8,9]"
   ],
   "metadata": {
    "collapsed": false
   }
  },
  {
   "cell_type": "code",
   "execution_count": 52,
   "outputs": [
    {
     "name": "stdout",
     "output_type": "stream",
     "text": [
      "[1, 2, 3, 4, 5, 6, 7, 8, 9]\n"
     ]
    }
   ],
   "source": [
    "def flatten(sequence):\n",
    "    res = []\n",
    "\n",
    "    for item in sequence:\n",
    "        if isinstance(item, (list, tuple)):\n",
    "            res += flatten(item)\n",
    "        else:\n",
    "            res.append(item)\n",
    "\n",
    "    return res\n",
    "\n",
    "\n",
    "seq = [1,(2,3),[],[4,(5,6,7)],8,[9]]\n",
    "print(flatten(seq))"
   ],
   "metadata": {
    "collapsed": false
   }
  }
 ],
 "metadata": {
  "kernelspec": {
   "display_name": "Python 3.10.7 64-bit",
   "language": "python",
   "name": "python3"
  },
  "language_info": {
   "codemirror_mode": {
    "name": "ipython",
    "version": 3
   },
   "file_extension": ".py",
   "mimetype": "text/x-python",
   "name": "python",
   "nbconvert_exporter": "python",
   "pygments_lexer": "ipython3",
   "version": "3.10.7"
  },
  "orig_nbformat": 4,
  "vscode": {
   "interpreter": {
    "hash": "e7370f93d1d0cde622a1f8e1c04877d8463912d04d973331ad4851f04de6915a"
   }
  }
 },
 "nbformat": 4,
 "nbformat_minor": 2
}
