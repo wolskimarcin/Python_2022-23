{
 "cells": [
  {
   "cell_type": "markdown",
   "metadata": {},
   "source": [
    "ZADANIE 3.1\n",
    "Czy podany kod jest poprawny składniowo w Pythonie? Jeśli nie, to dlaczego?\n",
    "\n",
    "x = 2; y = 3;\n",
    "if (x > y):\n",
    "    result = x;\n",
    "else:\n",
    "    result = y;\n",
    "for i in \"axby\": if ord(i) < 100: print (i)\n",
    "for i in \"axby\": print (ord(i) if ord(i) < 100 else i)"
   ]
  },
  {
   "cell_type": "code",
   "execution_count": 26,
   "metadata": {},
   "outputs": [
    {
     "name": "stdout",
     "output_type": "stream",
     "text": [
      "a\n",
      "b\n",
      "97\n",
      "x\n",
      "98\n",
      "y\n"
     ]
    }
   ],
   "source": [
    "x = 2; y = 3;\n",
    "if (x > y):\n",
    "    result = x;\n",
    "else:\n",
    "    result = y;\n",
    "#for i in \"axby\": if ord(i) < 100: print (i)    <- niepoprawne, brakuje wcięć\n",
    "for i in \"axby\": \n",
    "    if ord(i) < 100: \n",
    "        print (i)\n",
    "\n",
    "for i in \"axby\": print (ord(i) if ord(i) < 100 else i)"
   ]
  },
  {
   "cell_type": "markdown",
   "metadata": {},
   "source": [
    "ZADANIE 3.2\n",
    "Co jest złego w kodzie:\n",
    "\n",
    "L = [3, 5, 4] ; L = L.sort()\n",
    "x, y = 1, 2, 3\n",
    "X = 1, 2, 3 ; X[1] = 4\n",
    "X = [1, 2, 3] ; X[3] = 4\n",
    "X = \"abc\" ; X.append(\"d\")\n",
    "L = list(map(pow, range(8)))"
   ]
  },
  {
   "cell_type": "code",
   "execution_count": 27,
   "metadata": {},
   "outputs": [
    {
     "name": "stdout",
     "output_type": "stream",
     "text": [
      "abcd\n"
     ]
    }
   ],
   "source": [
    "L = [3, 5, 4] ; L = L.sort()\n",
    "#x, y = 1, 2, 3  <- dwóm zmiennym musimy przypisać dwie wartości, nie trzy\n",
    "x, y = 1, 2\n",
    "#X = 1, 2, 3 ; X[1] = 4 <- tuple nie można modyfikować (nadpisywać wartości)\n",
    "#X = [1, 2, 3] ; X[3] = 4 <- odwołujemy się do indeksu który nie istnieje w liście \n",
    "#X = \"abc\" ; X.append(\"d\") <- append to metoda listy, \n",
    "X = \"abc\" ; X = X + \"d\"     # my możemy użyć znaku konkatynacji '+'\n",
    "print(X)\n",
    "#L = list(map(pow(), range(8)))  <- brakuje argumentów funkcji pow"
   ]
  },
  {
   "cell_type": "markdown",
   "source": [
    "ZADANIE 3.3\n",
    "Wypisać w pętli liczby od 0 do 30 z wyjątkiem liczb podzielnych przez 3."
   ],
   "metadata": {
    "collapsed": false
   }
  },
  {
   "cell_type": "code",
   "execution_count": 28,
   "outputs": [
    {
     "name": "stdout",
     "output_type": "stream",
     "text": [
      "1\n",
      "2\n",
      "4\n",
      "5\n",
      "7\n",
      "8\n",
      "10\n",
      "11\n",
      "13\n",
      "14\n",
      "16\n",
      "17\n",
      "19\n",
      "20\n",
      "22\n",
      "23\n",
      "25\n",
      "26\n",
      "28\n",
      "29\n"
     ]
    }
   ],
   "source": [
    "for i in range(30):\n",
    "    if i % 3 != 0:\n",
    "        print(i)"
   ],
   "metadata": {
    "collapsed": false
   }
  },
  {
   "cell_type": "markdown",
   "source": [
    "ZADANIE 3.4\n",
    "Napisać program pobierający w pętli od użytkownika liczbę rzeczywistą x (typ float) i wypisujący x oraz trzecią potęgę x. Zatrzymanie programu następuje po wpisaniu z klawiatury stop. Jeżeli użytkownik wpisze napis zamiast liczby, to program ma wypisać komunikat o błędzie i kontynuować pracę."
   ],
   "metadata": {
    "collapsed": false
   }
  },
  {
   "cell_type": "code",
   "execution_count": 76,
   "outputs": [
    {
     "name": "stdout",
     "output_type": "stream",
     "text": [
      "4.0 ,  64.0\n",
      "5.0 ,  125.0\n",
      "Proszę wpisać liczbę zamiast napisu!\n",
      "Proszę wpisać liczbę zamiast napisu!\n"
     ]
    }
   ],
   "source": [
    "while True:\n",
    "    try:\n",
    "        x = input(\"Wpisz liczbę rzeczywistą: \")\n",
    "        xf = float(x)\n",
    "        print(xf, \", \", xf*xf*xf)\n",
    "    except:\n",
    "        if type(x) == str:\n",
    "            if x == \"stop\": break\n",
    "            print(\"Proszę wpisać liczbę zamiast napisu!\")\n",
    "\n",
    "if type(x) != str:\n",
    "    print(x, \", \", pow(x, 3))"
   ],
   "metadata": {
    "collapsed": false
   }
  },
  {
   "cell_type": "markdown",
   "source": [
    "ZADANIE 3.5\n",
    "Napisać program rysujący \"miarkę\" o zadanej długości. Należy prawidłowo obsłużyć liczby składające się z kilku cyfr (ostatnia cyfra liczby ma znajdować się pod znakiem kreski pionowej). Należy zbudować pełny string, a potem go wypisać.\n",
    "\n",
    "|....|....|....|....|....|....|....|....|....|....|....|....|\n",
    "0    1    2    3    4    5    6    7    8    9   10   11   12"
   ],
   "metadata": {
    "collapsed": false
   }
  },
  {
   "cell_type": "code",
   "execution_count": 79,
   "outputs": [
    {
     "name": "stdout",
     "output_type": "stream",
     "text": [
      "|....|....|....|....|....|....|....|....|....|....|....|....|....|....|....|....|....|\n",
      "0    1    2    3    4    5    6    7    8    9   10   11   12   13   14   15   16   17\n"
     ]
    }
   ],
   "source": [
    "cm = 17 # cm = int(input(\"Wpisz liczbę całkowitą: \"))\n",
    "out = \"|\" + \"\".join(\"....|\" for i in range(cm)) + \"\\n0\" + \"\".join((5 - len(str(i+ 1))) * \" \" + str(i + 1) for i in range(cm))\n",
    "print(out)"
   ],
   "metadata": {
    "collapsed": false
   }
  },
  {
   "cell_type": "markdown",
   "source": [
    "ZADANIE 3.6\n",
    "Napisać program rysujący prostokąt zbudowany z małych kratek. Należy zbudować pełny string, a potem go wypisać. Przykładowy prostokąt składający się 2x4 pól ma postać:\n",
    "\n",
    "+---+---+---+---+\n",
    "|   |   |   |   |\n",
    "+---+---+---+---+\n",
    "|   |   |   |   |\n",
    "+---+---+---+---+"
   ],
   "metadata": {
    "collapsed": false
   }
  },
  {
   "cell_type": "code",
   "execution_count": 83,
   "outputs": [
    {
     "name": "stdout",
     "output_type": "stream",
     "text": [
      "+---+---+---+---+---+---+---+---+\n",
      "|   |   |   |   |   |   |   |   |\n",
      "+---+---+---+---+---+---+---+---+\n",
      "|   |   |   |   |   |   |   |   |\n",
      "+---+---+---+---+---+---+---+---+\n",
      "|   |   |   |   |   |   |   |   |\n",
      "+---+---+---+---+---+---+---+---+\n",
      "\n"
     ]
    }
   ],
   "source": [
    "rows = 3\n",
    "columns = 8\n",
    "\n",
    "row = \"\".join(\"+---\" for i in range(columns)) + \"+\\n\" + \"\".join(\"|   \" for i in range(columns)) + \"|\\n\"\n",
    "shape = row * rows + row[: (-columns * 4) - 2]\n",
    "print(shape)\n"
   ],
   "metadata": {
    "collapsed": false
   }
  },
  {
   "cell_type": "markdown",
   "source": [],
   "metadata": {
    "collapsed": false
   }
  },
  {
   "cell_type": "markdown",
   "source": [
    "ZADANIE 3.8\n",
    "Dla dwóch sekwencji liczb lub znaków znaleźć: (a) listę elementów występujących jednocześnie w obu sekwencjach (bez powtórzeń), (b) listę wszystkich elementów z obu sekwencji (bez powtórzeń)."
   ],
   "metadata": {
    "collapsed": false
   }
  },
  {
   "cell_type": "code",
   "execution_count": 32,
   "outputs": [
    {
     "name": "stdout",
     "output_type": "stream",
     "text": [
      "['8', 'h', '3', '4', '9', '&', '2', '1', '7', 'r', 'f', 't']\n",
      "['i', '3', '1', 'r', '@', '8', 'j', '#', '*', '9', '2', 'g', 'h', 'e', '4', '5', '%', '7', 't', 'd', '!', '&', 'n', 'f']\n"
     ]
    }
   ],
   "source": [
    "list1 = \"d3h8239n32f91d173r432n323dn18d2t7h43f&&jd2\"\n",
    "list2 = \"t85347h23e21r94387fgh239834f2i3&*%#@!\"\n",
    "intersection = list(set(list1) & set(list2))\n",
    "union = list(set(list1) | set(list2))\n",
    "print(intersection)\n",
    "print(union)"
   ],
   "metadata": {
    "collapsed": false
   }
  },
  {
   "cell_type": "markdown",
   "source": [
    "ZADANIE 3.9\n",
    "Mamy daną listę sekwencji (listy lub krotki) różnej długości zawierających liczby. Znaleźć listę zawierającą sumy liczb z tych sekwencji. Przykładowa sekwencja [[],[4],(1,2),[3,4],(5,6,7)], spodziewany wynik [0,4,3,7,18]."
   ],
   "metadata": {
    "collapsed": false
   }
  },
  {
   "cell_type": "code",
   "execution_count": 41,
   "outputs": [
    {
     "name": "stdout",
     "output_type": "stream",
     "text": [
      "[0, 4, 3, 7, 18]\n"
     ]
    }
   ],
   "source": [
    "sequence = [[],[4],(1,2),[3,4],(5,6,7)]\n",
    "print([sum(i) for i in sequence])\n"
   ],
   "metadata": {
    "collapsed": false
   }
  },
  {
   "cell_type": "markdown",
   "source": [
    "ZADANIE 3.10\n",
    "Stworzyć słownik tłumaczący liczby zapisane w systemie rzymskim (z literami I, V, X, L, C, D, M) na liczby arabskie (podać kilka sposobów tworzenia takiego słownika). Mile widziany kod tłumaczący całą liczbę [funkcja roman2int()]."
   ],
   "metadata": {
    "collapsed": false
   }
  },
  {
   "cell_type": "code",
   "execution_count": 74,
   "outputs": [
    {
     "name": "stdout",
     "output_type": "stream",
     "text": [
      "{'I': 1, 'V': 5, 'X': 10, 'L': 50, 'C': 100, 'D': 500, 'M': 1000}\n",
      "{'I': 1, 'V': 5, 'X': 10, 'L': 50, 'C': 100, 'D': 500, 'M': 1000}\n",
      "{'I': 1, 'V': 5, 'X': 10, 'L': 50, 'C': 100, 'D': 500, 'M': 1000}\n",
      "{'I': 1, 'V': 5, 'X': 10, 'L': 50, 'C': 100, 'D': 500, 'M': 1000}\n",
      "{'I': 1, 'V': 5, 'X': 10, 'L': 50, 'C': 100, 'D': 500, 'M': 1000}\n"
     ]
    }
   ],
   "source": [
    "# 1 sposób\n",
    "D_1 = {'I':1, 'V':5, 'X':10, 'L':50, 'C':100, 'D':500, 'M':1000}\n",
    "# 2 sposób\n",
    "D_2 = {} # lub D = dict()\n",
    "D_2['I'] = 1\n",
    "D_2['V'] = 5\n",
    "D_2['X'] = 10\n",
    "D_2['L'] = 50\n",
    "D_2['C'] = 100\n",
    "D_2['D'] = 500\n",
    "D_2['M'] = 1000\n",
    "\n",
    "# 3 sposób - konwersja z listy krotek\n",
    "D_3 = dict([(\"I\", 1), (\"V\", 5), (\"X\", 10), (\"L\", 50), (\"C\", 100), (\"D\", 500), (\"M\", 1000)])\n",
    "\n",
    "# 4 sposób\n",
    "D_4 = dict(I = 1, V = 5, X = 10, L = 50, C = 100, D = 500, M = 1000)\n",
    "\n",
    "# 5 sposób - konwersja z dwóch list\n",
    "l1 = ('I', 'V', 'X', 'L', 'C', 'D', 'M')\n",
    "l2 = (1, 5, 10, 50, 100, 500, 1000)\n",
    "D_5 = dict(zip(l1, l2))\n",
    "\n",
    "\n",
    "print(D_1)\n",
    "print(D_2)\n",
    "print(D_3)\n",
    "print(D_4)\n",
    "print(D_5)"
   ],
   "metadata": {
    "collapsed": false
   }
  }
 ],
 "metadata": {
  "kernelspec": {
   "display_name": "Python 3.10.7 64-bit",
   "language": "python",
   "name": "python3"
  },
  "language_info": {
   "codemirror_mode": {
    "name": "ipython",
    "version": 3
   },
   "file_extension": ".py",
   "mimetype": "text/x-python",
   "name": "python",
   "nbconvert_exporter": "python",
   "pygments_lexer": "ipython3",
   "version": "3.10.7"
  },
  "orig_nbformat": 4,
  "vscode": {
   "interpreter": {
    "hash": "e7370f93d1d0cde622a1f8e1c04877d8463912d04d973331ad4851f04de6915a"
   }
  }
 },
 "nbformat": 4,
 "nbformat_minor": 2
}
